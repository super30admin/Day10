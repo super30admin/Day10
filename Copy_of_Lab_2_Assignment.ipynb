{
  "nbformat": 4,
  "nbformat_minor": 0,
  "metadata": {
    "kernelspec": {
      "display_name": "Python 3",
      "language": "python",
      "name": "python3"
    },
    "language_info": {
      "codemirror_mode": {
        "name": "ipython",
        "version": 3
      },
      "file_extension": ".py",
      "mimetype": "text/x-python",
      "name": "python",
      "nbconvert_exporter": "python",
      "pygments_lexer": "ipython3",
      "version": "3.7.1"
    },
    "toc": {
      "base_numbering": 1,
      "nav_menu": {},
      "number_sections": true,
      "sideBar": true,
      "skip_h1_title": false,
      "title_cell": "Table of Contents",
      "title_sidebar": "Contents",
      "toc_cell": false,
      "toc_position": {},
      "toc_section_display": true,
      "toc_window_display": false
    },
    "colab": {
      "name": "Copy of Lab 2 - Assignment.ipynb",
      "provenance": [],
      "collapsed_sections": [],
      "include_colab_link": true
    }
  },
  "cells": [
    {
      "cell_type": "markdown",
      "metadata": {
        "id": "view-in-github",
        "colab_type": "text"
      },
      "source": [
        "<a href=\"https://colab.research.google.com/github/Neelharia97/Array-1/blob/master/Copy_of_Lab_2_Assignment.ipynb\" target=\"_parent\"><img src=\"https://colab.research.google.com/assets/colab-badge.svg\" alt=\"Open In Colab\"/></a>"
      ]
    },
    {
      "cell_type": "markdown",
      "metadata": {
        "id": "_sZRa2ehY4rJ"
      },
      "source": [
        "# Lab 2 Assignment"
      ]
    },
    {
      "cell_type": "markdown",
      "metadata": {
        "id": "SJjTIYSHY4rL"
      },
      "source": [
        "__Name:__"
      ]
    },
    {
      "cell_type": "markdown",
      "metadata": {
        "id": "XfGJ497SY4rM"
      },
      "source": [
        "In the assignment, you will analyze which factors are associated with the number of likes a Facebook post gets. The dataset is from https://archive.ics.uci.edu/ml/datasets/Facebook+metrics. All posts are from the page of a renowned cosmetics brand.\n",
        "\n",
        "The dependent variable is `like`."
      ]
    },
    {
      "cell_type": "code",
      "metadata": {
        "id": "Dg_djp4LY4rM",
        "outputId": "8b10a8aa-31b8-4acf-be0e-3dda40d5ad56",
        "colab": {
          "base_uri": "https://localhost:8080/"
        }
      },
      "source": [
        "import pandas as pd\n",
        "import statsmodels.api as sm\n",
        "import numpy as np"
      ],
      "execution_count": null,
      "outputs": [
        {
          "output_type": "stream",
          "name": "stderr",
          "text": [
            "/usr/local/lib/python3.7/dist-packages/statsmodels/tools/_testing.py:19: FutureWarning: pandas.util.testing is deprecated. Use the functions in the public API at pandas.testing instead.\n",
            "  import pandas.util.testing as tm\n"
          ]
        }
      ]
    },
    {
      "cell_type": "code",
      "metadata": {
        "id": "Q6o_G3JgY4rN"
      },
      "source": [
        "fb_like = pd.read_csv('http://fengmai.net/download/data/bia652/dataset_Facebook.csv', sep=\";\")\n",
        "# remove unneeded variables\n",
        "not_needed = ['Page total likes', 'Total Interactions']\n",
        "fb_like = fb_like.drop(not_needed, axis = 1)"
      ],
      "execution_count": null,
      "outputs": []
    },
    {
      "cell_type": "code",
      "metadata": {
        "scrolled": true,
        "id": "whaPV3lbY4rN",
        "outputId": "416adcd3-5fbb-4f1e-df39-3783c602850e",
        "colab": {
          "base_uri": "https://localhost:8080/",
          "height": 267
        }
      },
      "source": [
        "fb_like.head(5)"
      ],
      "execution_count": null,
      "outputs": [
        {
          "output_type": "execute_result",
          "data": {
            "text/plain": [
              "     Type  Category  Post Month  Post Weekday  Post Hour  Paid  \\\n",
              "0   Photo         2          12             4          3   0.0   \n",
              "1  Status         2          12             3         10   0.0   \n",
              "2   Photo         3          12             3          3   0.0   \n",
              "3   Photo         2          12             2         10   1.0   \n",
              "4   Photo         2          12             2          3   0.0   \n",
              "\n",
              "   Lifetime Post Total Reach  Lifetime Post Total Impressions  \\\n",
              "0                       2752                             5091   \n",
              "1                      10460                            19057   \n",
              "2                       2413                             4373   \n",
              "3                      50128                            87991   \n",
              "4                       7244                            13594   \n",
              "\n",
              "   Lifetime Engaged Users  Lifetime Post Consumers  \\\n",
              "0                     178                      109   \n",
              "1                    1457                     1361   \n",
              "2                     177                      113   \n",
              "3                    2211                      790   \n",
              "4                     671                      410   \n",
              "\n",
              "   Lifetime Post Consumptions  \\\n",
              "0                         159   \n",
              "1                        1674   \n",
              "2                         154   \n",
              "3                        1119   \n",
              "4                         580   \n",
              "\n",
              "   Lifetime Post Impressions by people who have liked your Page  \\\n",
              "0                                               3078              \n",
              "1                                              11710              \n",
              "2                                               2812              \n",
              "3                                              61027              \n",
              "4                                               6228              \n",
              "\n",
              "   Lifetime Post reach by people who like your Page  \\\n",
              "0                                              1640   \n",
              "1                                              6112   \n",
              "2                                              1503   \n",
              "3                                             32048   \n",
              "4                                              3200   \n",
              "\n",
              "   Lifetime People who have liked your Page and engaged with your post  \\\n",
              "0                                                119                     \n",
              "1                                               1108                     \n",
              "2                                                132                     \n",
              "3                                               1386                     \n",
              "4                                                396                     \n",
              "\n",
              "   comment    like  share  \n",
              "0        4    79.0   17.0  \n",
              "1        5   130.0   29.0  \n",
              "2        0    66.0   14.0  \n",
              "3       58  1572.0  147.0  \n",
              "4       19   325.0   49.0  "
            ],
            "text/html": [
              "\n",
              "  <div id=\"df-df7da5c9-a8b0-4146-a28c-951accdaa4e5\">\n",
              "    <div class=\"colab-df-container\">\n",
              "      <div>\n",
              "<style scoped>\n",
              "    .dataframe tbody tr th:only-of-type {\n",
              "        vertical-align: middle;\n",
              "    }\n",
              "\n",
              "    .dataframe tbody tr th {\n",
              "        vertical-align: top;\n",
              "    }\n",
              "\n",
              "    .dataframe thead th {\n",
              "        text-align: right;\n",
              "    }\n",
              "</style>\n",
              "<table border=\"1\" class=\"dataframe\">\n",
              "  <thead>\n",
              "    <tr style=\"text-align: right;\">\n",
              "      <th></th>\n",
              "      <th>Type</th>\n",
              "      <th>Category</th>\n",
              "      <th>Post Month</th>\n",
              "      <th>Post Weekday</th>\n",
              "      <th>Post Hour</th>\n",
              "      <th>Paid</th>\n",
              "      <th>Lifetime Post Total Reach</th>\n",
              "      <th>Lifetime Post Total Impressions</th>\n",
              "      <th>Lifetime Engaged Users</th>\n",
              "      <th>Lifetime Post Consumers</th>\n",
              "      <th>Lifetime Post Consumptions</th>\n",
              "      <th>Lifetime Post Impressions by people who have liked your Page</th>\n",
              "      <th>Lifetime Post reach by people who like your Page</th>\n",
              "      <th>Lifetime People who have liked your Page and engaged with your post</th>\n",
              "      <th>comment</th>\n",
              "      <th>like</th>\n",
              "      <th>share</th>\n",
              "    </tr>\n",
              "  </thead>\n",
              "  <tbody>\n",
              "    <tr>\n",
              "      <th>0</th>\n",
              "      <td>Photo</td>\n",
              "      <td>2</td>\n",
              "      <td>12</td>\n",
              "      <td>4</td>\n",
              "      <td>3</td>\n",
              "      <td>0.0</td>\n",
              "      <td>2752</td>\n",
              "      <td>5091</td>\n",
              "      <td>178</td>\n",
              "      <td>109</td>\n",
              "      <td>159</td>\n",
              "      <td>3078</td>\n",
              "      <td>1640</td>\n",
              "      <td>119</td>\n",
              "      <td>4</td>\n",
              "      <td>79.0</td>\n",
              "      <td>17.0</td>\n",
              "    </tr>\n",
              "    <tr>\n",
              "      <th>1</th>\n",
              "      <td>Status</td>\n",
              "      <td>2</td>\n",
              "      <td>12</td>\n",
              "      <td>3</td>\n",
              "      <td>10</td>\n",
              "      <td>0.0</td>\n",
              "      <td>10460</td>\n",
              "      <td>19057</td>\n",
              "      <td>1457</td>\n",
              "      <td>1361</td>\n",
              "      <td>1674</td>\n",
              "      <td>11710</td>\n",
              "      <td>6112</td>\n",
              "      <td>1108</td>\n",
              "      <td>5</td>\n",
              "      <td>130.0</td>\n",
              "      <td>29.0</td>\n",
              "    </tr>\n",
              "    <tr>\n",
              "      <th>2</th>\n",
              "      <td>Photo</td>\n",
              "      <td>3</td>\n",
              "      <td>12</td>\n",
              "      <td>3</td>\n",
              "      <td>3</td>\n",
              "      <td>0.0</td>\n",
              "      <td>2413</td>\n",
              "      <td>4373</td>\n",
              "      <td>177</td>\n",
              "      <td>113</td>\n",
              "      <td>154</td>\n",
              "      <td>2812</td>\n",
              "      <td>1503</td>\n",
              "      <td>132</td>\n",
              "      <td>0</td>\n",
              "      <td>66.0</td>\n",
              "      <td>14.0</td>\n",
              "    </tr>\n",
              "    <tr>\n",
              "      <th>3</th>\n",
              "      <td>Photo</td>\n",
              "      <td>2</td>\n",
              "      <td>12</td>\n",
              "      <td>2</td>\n",
              "      <td>10</td>\n",
              "      <td>1.0</td>\n",
              "      <td>50128</td>\n",
              "      <td>87991</td>\n",
              "      <td>2211</td>\n",
              "      <td>790</td>\n",
              "      <td>1119</td>\n",
              "      <td>61027</td>\n",
              "      <td>32048</td>\n",
              "      <td>1386</td>\n",
              "      <td>58</td>\n",
              "      <td>1572.0</td>\n",
              "      <td>147.0</td>\n",
              "    </tr>\n",
              "    <tr>\n",
              "      <th>4</th>\n",
              "      <td>Photo</td>\n",
              "      <td>2</td>\n",
              "      <td>12</td>\n",
              "      <td>2</td>\n",
              "      <td>3</td>\n",
              "      <td>0.0</td>\n",
              "      <td>7244</td>\n",
              "      <td>13594</td>\n",
              "      <td>671</td>\n",
              "      <td>410</td>\n",
              "      <td>580</td>\n",
              "      <td>6228</td>\n",
              "      <td>3200</td>\n",
              "      <td>396</td>\n",
              "      <td>19</td>\n",
              "      <td>325.0</td>\n",
              "      <td>49.0</td>\n",
              "    </tr>\n",
              "  </tbody>\n",
              "</table>\n",
              "</div>\n",
              "      <button class=\"colab-df-convert\" onclick=\"convertToInteractive('df-df7da5c9-a8b0-4146-a28c-951accdaa4e5')\"\n",
              "              title=\"Convert this dataframe to an interactive table.\"\n",
              "              style=\"display:none;\">\n",
              "        \n",
              "  <svg xmlns=\"http://www.w3.org/2000/svg\" height=\"24px\"viewBox=\"0 0 24 24\"\n",
              "       width=\"24px\">\n",
              "    <path d=\"M0 0h24v24H0V0z\" fill=\"none\"/>\n",
              "    <path d=\"M18.56 5.44l.94 2.06.94-2.06 2.06-.94-2.06-.94-.94-2.06-.94 2.06-2.06.94zm-11 1L8.5 8.5l.94-2.06 2.06-.94-2.06-.94L8.5 2.5l-.94 2.06-2.06.94zm10 10l.94 2.06.94-2.06 2.06-.94-2.06-.94-.94-2.06-.94 2.06-2.06.94z\"/><path d=\"M17.41 7.96l-1.37-1.37c-.4-.4-.92-.59-1.43-.59-.52 0-1.04.2-1.43.59L10.3 9.45l-7.72 7.72c-.78.78-.78 2.05 0 2.83L4 21.41c.39.39.9.59 1.41.59.51 0 1.02-.2 1.41-.59l7.78-7.78 2.81-2.81c.8-.78.8-2.07 0-2.86zM5.41 20L4 18.59l7.72-7.72 1.47 1.35L5.41 20z\"/>\n",
              "  </svg>\n",
              "      </button>\n",
              "      \n",
              "  <style>\n",
              "    .colab-df-container {\n",
              "      display:flex;\n",
              "      flex-wrap:wrap;\n",
              "      gap: 12px;\n",
              "    }\n",
              "\n",
              "    .colab-df-convert {\n",
              "      background-color: #E8F0FE;\n",
              "      border: none;\n",
              "      border-radius: 50%;\n",
              "      cursor: pointer;\n",
              "      display: none;\n",
              "      fill: #1967D2;\n",
              "      height: 32px;\n",
              "      padding: 0 0 0 0;\n",
              "      width: 32px;\n",
              "    }\n",
              "\n",
              "    .colab-df-convert:hover {\n",
              "      background-color: #E2EBFA;\n",
              "      box-shadow: 0px 1px 2px rgba(60, 64, 67, 0.3), 0px 1px 3px 1px rgba(60, 64, 67, 0.15);\n",
              "      fill: #174EA6;\n",
              "    }\n",
              "\n",
              "    [theme=dark] .colab-df-convert {\n",
              "      background-color: #3B4455;\n",
              "      fill: #D2E3FC;\n",
              "    }\n",
              "\n",
              "    [theme=dark] .colab-df-convert:hover {\n",
              "      background-color: #434B5C;\n",
              "      box-shadow: 0px 1px 3px 1px rgba(0, 0, 0, 0.15);\n",
              "      filter: drop-shadow(0px 1px 2px rgba(0, 0, 0, 0.3));\n",
              "      fill: #FFFFFF;\n",
              "    }\n",
              "  </style>\n",
              "\n",
              "      <script>\n",
              "        const buttonEl =\n",
              "          document.querySelector('#df-df7da5c9-a8b0-4146-a28c-951accdaa4e5 button.colab-df-convert');\n",
              "        buttonEl.style.display =\n",
              "          google.colab.kernel.accessAllowed ? 'block' : 'none';\n",
              "\n",
              "        async function convertToInteractive(key) {\n",
              "          const element = document.querySelector('#df-df7da5c9-a8b0-4146-a28c-951accdaa4e5');\n",
              "          const dataTable =\n",
              "            await google.colab.kernel.invokeFunction('convertToInteractive',\n",
              "                                                     [key], {});\n",
              "          if (!dataTable) return;\n",
              "\n",
              "          const docLinkHtml = 'Like what you see? Visit the ' +\n",
              "            '<a target=\"_blank\" href=https://colab.research.google.com/notebooks/data_table.ipynb>data table notebook</a>'\n",
              "            + ' to learn more about interactive tables.';\n",
              "          element.innerHTML = '';\n",
              "          dataTable['output_type'] = 'display_data';\n",
              "          await google.colab.output.renderOutput(dataTable, element);\n",
              "          const docLink = document.createElement('div');\n",
              "          docLink.innerHTML = docLinkHtml;\n",
              "          element.appendChild(docLink);\n",
              "        }\n",
              "      </script>\n",
              "    </div>\n",
              "  </div>\n",
              "  "
            ]
          },
          "metadata": {},
          "execution_count": 3
        }
      ]
    },
    {
      "cell_type": "markdown",
      "metadata": {
        "id": "AODx_Zd9Y4rN"
      },
      "source": [
        "## Q1 - Modeling with categorical Xs"
      ]
    },
    {
      "cell_type": "markdown",
      "metadata": {
        "id": "pPCuZkEjY4rO"
      },
      "source": [
        "- Use [pd.get_dummies()](https://pandas.pydata.org/pandas-docs/stable/reference/api/pandas.get_dummies.html) to create dummy variables for the following variables: `Type`, `Category`, `Post Month`, `Post Weekday`, `Post Hour`. Make sure that `drop_firt=True` to avoid multicollinearity problem.\n",
        "- You may want to read [this post](https://stackoverflow.com/questions/24109779/running-get-dummies-on-several-dataframe-columns) to create dummies for multiple columns.\n",
        "- The origninal columns will be automatically dropped after you create the dummies. \n",
        "- You may want to check if any rows have missing variables and drop them accordingly (use [dropna](https://pandas.pydata.org/pandas-docs/stable/reference/api/pandas.DataFrame.dropna.html)). \n",
        "- Create a regression model that uses all the variables (other than like) as independent variables. You'll need to use `statsmodels` and not `sklearn`. Display the OLS Regression Results.  \n",
        "- No need to split the data to train-test sets for this exercise. "
      ]
    },
    {
      "cell_type": "code",
      "metadata": {
        "id": "3TddedDdY4rO",
        "outputId": "1baecb2e-cc93-4784-ae35-1953a5a9ed1b",
        "colab": {
          "base_uri": "https://localhost:8080/"
        }
      },
      "source": [
        "import statsmodels.api as sm\n",
        "#Create Dummies /One Hot Encoding\n",
        "categorical_features = ['Type','Category', 'Post Month', 'Post Weekday', 'Post Hour']\n",
        "fb_like_dummy = pd.get_dummies(fb_like, columns = categorical_features,drop_first = True)\n",
        "fb_like_dummy = fb_like_dummy.dropna()\n",
        "#fb_like_dummy['like']"
      ],
      "execution_count": null,
      "outputs": [
        {
          "output_type": "execute_result",
          "data": {
            "text/plain": [
              "0        79.0\n",
              "1       130.0\n",
              "2        66.0\n",
              "3      1572.0\n",
              "4       325.0\n",
              "        ...  \n",
              "494     125.0\n",
              "495      53.0\n",
              "496      53.0\n",
              "497      93.0\n",
              "498      91.0\n",
              "Name: like, Length: 495, dtype: float64"
            ]
          },
          "metadata": {},
          "execution_count": 32
        }
      ]
    },
    {
      "cell_type": "code",
      "source": [
        "#Split Columns into independent and target attributes\n",
        "independent_columns = list(fb_like_dummy.columns)\n",
        "independent_columns.remove(\"like\")\n",
        "target_columns = [\"like\"]\n"
      ],
      "metadata": {
        "id": "EIDnIAqbRKsj"
      },
      "execution_count": null,
      "outputs": []
    },
    {
      "cell_type": "code",
      "source": [
        "\n"
      ],
      "metadata": {
        "id": "yzV5yIQ5S1Ge"
      },
      "execution_count": null,
      "outputs": []
    },
    {
      "cell_type": "code",
      "source": [
        "#Create Model\n",
        "model = sm.OLS(fb_like_dummy[target_columns],fb_like_dummy[independent_columns]).fit()\n",
        "predictions = model.predict(fb_like_dummy[independent_columns])\n",
        "print(model.summary())\n"
      ],
      "metadata": {
        "id": "55Arj4C2TkXl",
        "outputId": "3be7062c-cfb1-4d72-ca88-a92563f0b0c8",
        "colab": {
          "base_uri": "https://localhost:8080/"
        }
      },
      "execution_count": null,
      "outputs": [
        {
          "output_type": "stream",
          "name": "stdout",
          "text": [
            "                                 OLS Regression Results                                \n",
            "=======================================================================================\n",
            "Dep. Variable:                   like   R-squared (uncentered):                   0.993\n",
            "Model:                            OLS   Adj. R-squared (uncentered):              0.993\n",
            "Method:                 Least Squares   F-statistic:                              1229.\n",
            "Date:                Thu, 07 Apr 2022   Prob (F-statistic):                        0.00\n",
            "Time:                        00:03:36   Log-Likelihood:                         -2387.4\n",
            "No. Observations:                 495   AIC:                                      4883.\n",
            "Df Residuals:                     441   BIC:                                      5110.\n",
            "Df Model:                          54                                                  \n",
            "Covariance Type:            nonrobust                                                  \n",
            "=======================================================================================================================================\n",
            "                                                                          coef    std err          t      P>|t|      [0.025      0.975]\n",
            "---------------------------------------------------------------------------------------------------------------------------------------\n",
            "Paid                                                                    0.3477      3.416      0.102      0.919      -6.367       7.062\n",
            "Lifetime Post Total Reach                                              -0.0005      0.000     -1.531      0.126      -0.001       0.000\n",
            "Lifetime Post Total Impressions                                      7.215e-05      0.000      0.654      0.513      -0.000       0.000\n",
            "Lifetime Engaged Users                                                  0.9818      0.016     63.002      0.000       0.951       1.012\n",
            "Lifetime Post Consumers                                                -0.9824      0.015    -65.050      0.000      -1.012      -0.953\n",
            "Lifetime Post Consumptions                                              0.0048      0.001      4.193      0.000       0.003       0.007\n",
            "Lifetime Post Impressions by people who have liked your Page        -6.924e-05      0.000     -0.584      0.559      -0.000       0.000\n",
            "Lifetime Post reach by people who like your Page                        0.0010      0.001      1.577      0.115      -0.000       0.002\n",
            "Lifetime People who have liked your Page and engaged with your post     0.0341      0.007      4.765      0.000       0.020       0.048\n",
            "comment                                                                 0.8363      0.152      5.496      0.000       0.537       1.135\n",
            "share                                                                   1.1556      0.095     12.201      0.000       0.969       1.342\n",
            "Type_Photo                                                            -11.6083      7.383     -1.572      0.117     -26.118       2.901\n",
            "Type_Status                                                           -38.3106     11.117     -3.446      0.001     -60.159     -16.462\n",
            "Type_Video                                                              3.2211     15.170      0.212      0.832     -26.593      33.036\n",
            "Category_2                                                             10.1394      4.697      2.159      0.031       0.908      19.371\n",
            "Category_3                                                             11.1632      4.279      2.609      0.009       2.753      19.573\n",
            "Post Month_2                                                           12.6937      9.905      1.282      0.201      -6.773      32.160\n",
            "Post Month_3                                                            9.1586      9.996      0.916      0.360     -10.487      28.804\n",
            "Post Month_4                                                           10.2482      8.334      1.230      0.219      -6.132      26.628\n",
            "Post Month_5                                                           12.9143      8.553      1.510      0.132      -3.895      29.723\n",
            "Post Month_6                                                            0.8221      8.375      0.098      0.922     -15.637      17.282\n",
            "Post Month_7                                                            5.2470      8.389      0.625      0.532     -11.241      21.735\n",
            "Post Month_8                                                            9.3207      8.959      1.040      0.299      -8.287      26.928\n",
            "Post Month_9                                                           13.2327      9.062      1.460      0.145      -4.578      31.043\n",
            "Post Month_10                                                          16.6184      8.196      2.028      0.043       0.510      32.727\n",
            "Post Month_11                                                          -3.5370      8.893     -0.398      0.691     -21.014      13.940\n",
            "Post Month_12                                                         -11.5363      8.558     -1.348      0.178     -28.355       5.283\n",
            "Post Weekday_2                                                         -1.9985      5.778     -0.346      0.730     -13.355       9.358\n",
            "Post Weekday_3                                                          2.1873      5.827      0.375      0.708      -9.266      13.640\n",
            "Post Weekday_4                                                          4.5688      5.597      0.816      0.415      -6.432      15.570\n",
            "Post Weekday_5                                                         -3.5136      5.693     -0.617      0.537     -14.702       7.675\n",
            "Post Weekday_6                                                         -3.1315      5.514     -0.568      0.570     -13.968       7.705\n",
            "Post Weekday_7                                                         -4.4681      5.404     -0.827      0.409     -15.088       6.152\n",
            "Post Hour_2                                                            -2.6465      9.680     -0.273      0.785     -21.671      16.378\n",
            "Post Hour_3                                                            -5.5715      9.539     -0.584      0.559     -24.319      13.176\n",
            "Post Hour_4                                                            -1.5442     10.194     -0.151      0.880     -21.580      18.491\n",
            "Post Hour_5                                                           -16.8946     13.160     -1.284      0.200     -42.758       8.969\n",
            "Post Hour_6                                                             9.2059     12.178      0.756      0.450     -14.729      33.140\n",
            "Post Hour_7                                                            -7.9647     12.616     -0.631      0.528     -32.759      16.829\n",
            "Post Hour_8                                                            -4.5634     13.072     -0.349      0.727     -30.255      21.128\n",
            "Post Hour_9                                                           -10.5439     10.959     -0.962      0.337     -32.083      10.995\n",
            "Post Hour_10                                                           -7.9612      9.797     -0.813      0.417     -27.215      11.293\n",
            "Post Hour_11                                                           -3.6363      9.896     -0.367      0.713     -23.085      15.812\n",
            "Post Hour_12                                                          -11.9791     10.892     -1.100      0.272     -33.387       9.429\n",
            "Post Hour_13                                                           -4.1188     10.196     -0.404      0.686     -24.157      15.920\n",
            "Post Hour_14                                                           -4.7086     12.996     -0.362      0.717     -30.250      20.833\n",
            "Post Hour_15                                                           -2.4644     17.335     -0.142      0.887     -36.534      31.605\n",
            "Post Hour_16                                                          -10.7313     33.399     -0.321      0.748     -76.372      54.909\n",
            "Post Hour_17                                                           29.6595     22.740      1.304      0.193     -15.032      74.351\n",
            "Post Hour_18                                                           -3.0233     22.114     -0.137      0.891     -46.484      40.438\n",
            "Post Hour_19                                                           -3.9801     33.925     -0.117      0.907     -70.656      62.695\n",
            "Post Hour_20                                                           25.9190     33.893      0.765      0.445     -40.693      92.531\n",
            "Post Hour_22                                                           -4.9078     33.898     -0.145      0.885     -71.529      61.713\n",
            "Post Hour_23                                                           -0.3263     33.740     -0.010      0.992     -66.638      65.985\n",
            "==============================================================================\n",
            "Omnibus:                      371.323   Durbin-Watson:                   1.996\n",
            "Prob(Omnibus):                  0.000   Jarque-Bera (JB):            20140.225\n",
            "Skew:                           2.664   Prob(JB):                         0.00\n",
            "Kurtosis:                      33.791   Cond. No.                     3.40e+06\n",
            "==============================================================================\n",
            "\n",
            "Warnings:\n",
            "[1] Standard Errors assume that the covariance matrix of the errors is correctly specified.\n",
            "[2] The condition number is large, 3.4e+06. This might indicate that there are\n",
            "strong multicollinearity or other numerical problems.\n"
          ]
        }
      ]
    },
    {
      "cell_type": "code",
      "source": [
        "model.conf_int()"
      ],
      "metadata": {
        "id": "dFLFxdwYVx1k",
        "outputId": "e39050e5-c897-483b-90be-2281d584a810",
        "colab": {
          "base_uri": "https://localhost:8080/",
          "height": 1000
        }
      },
      "execution_count": null,
      "outputs": [
        {
          "output_type": "execute_result",
          "data": {
            "text/plain": [
              "                                                            0          1\n",
              "Paid                                                -6.366914   7.062311\n",
              "Lifetime Post Total Reach                           -0.001079   0.000134\n",
              "Lifetime Post Total Impressions                     -0.000145   0.000289\n",
              "Lifetime Engaged Users                               0.951141   1.012394\n",
              "Lifetime Post Consumers                             -1.012126  -0.952761\n",
              "Lifetime Post Consumptions                           0.002574   0.007116\n",
              "Lifetime Post Impressions by people who have li...  -0.000302   0.000164\n",
              "Lifetime Post reach by people who like your Page    -0.000246   0.002243\n",
              "Lifetime People who have liked your Page and en...   0.020047   0.048198\n",
              "comment                                              0.537226   1.135406\n",
              "share                                                0.969443   1.341713\n",
              "Type_Photo                                         -26.118027   2.901484\n",
              "Type_Status                                        -60.159412 -16.461734\n",
              "Type_Video                                         -26.593340  33.035543\n",
              "Category_2                                           0.908133  19.370630\n",
              "Category_3                                           2.752980  19.573439\n",
              "Post Month_2                                        -6.772770  32.160218\n",
              "Post Month_3                                       -10.486630  28.803853\n",
              "Post Month_4                                        -6.131769  26.628202\n",
              "Post Month_5                                        -3.894660  29.723183\n",
              "Post Month_6                                       -15.637246  17.281518\n",
              "Post Month_7                                       -11.240862  21.734909\n",
              "Post Month_8                                        -8.286724  26.928214\n",
              "Post Month_9                                        -4.577966  31.043435\n",
              "Post Month_10                                        0.509751  32.727049\n",
              "Post Month_11                                      -21.014096  13.940039\n",
              "Post Month_12                                      -28.355120   5.282606\n",
              "Post Weekday_2                                     -13.354851   9.357948\n",
              "Post Weekday_3                                      -9.265575  13.640136\n",
              "Post Weekday_4                                      -6.431945  15.569527\n",
              "Post Weekday_5                                     -14.701805   7.674620\n",
              "Post Weekday_6                                     -13.968150   7.705138\n",
              "Post Weekday_7                                     -15.088299   6.152020\n",
              "Post Hour_2                                        -21.671239  16.378201\n",
              "Post Hour_3                                        -24.318870  13.175888\n",
              "Post Hour_4                                        -21.579506  18.491127\n",
              "Post Hour_5                                        -42.758407   8.969124\n",
              "Post Hour_6                                        -14.728636  33.140441\n",
              "Post Hour_7                                        -32.758841  16.829470\n",
              "Post Hour_8                                        -30.255202  21.128461\n",
              "Post Hour_9                                        -32.083171  10.995398\n",
              "Post Hour_10                                       -27.215173  11.292813\n",
              "Post Hour_11                                       -23.085096  15.812445\n",
              "Post Hour_12                                       -33.386719   9.428593\n",
              "Post Hour_13                                       -24.157194  15.919664\n",
              "Post Hour_14                                       -30.249838  20.832556\n",
              "Post Hour_15                                       -36.533625  31.604797\n",
              "Post Hour_16                                       -76.371550  54.908854\n",
              "Post Hour_17                                       -15.032197  74.351131\n",
              "Post Hour_18                                       -46.484347  40.437799\n",
              "Post Hour_19                                       -70.655641  62.695393\n",
              "Post Hour_20                                       -40.693047  92.531097\n",
              "Post Hour_22                                       -71.528669  61.713042\n",
              "Post Hour_23                                       -66.637582  65.984958"
            ],
            "text/html": [
              "\n",
              "  <div id=\"df-610b2f1f-15c1-4aff-a00e-c3192b88bf37\">\n",
              "    <div class=\"colab-df-container\">\n",
              "      <div>\n",
              "<style scoped>\n",
              "    .dataframe tbody tr th:only-of-type {\n",
              "        vertical-align: middle;\n",
              "    }\n",
              "\n",
              "    .dataframe tbody tr th {\n",
              "        vertical-align: top;\n",
              "    }\n",
              "\n",
              "    .dataframe thead th {\n",
              "        text-align: right;\n",
              "    }\n",
              "</style>\n",
              "<table border=\"1\" class=\"dataframe\">\n",
              "  <thead>\n",
              "    <tr style=\"text-align: right;\">\n",
              "      <th></th>\n",
              "      <th>0</th>\n",
              "      <th>1</th>\n",
              "    </tr>\n",
              "  </thead>\n",
              "  <tbody>\n",
              "    <tr>\n",
              "      <th>Paid</th>\n",
              "      <td>-6.366914</td>\n",
              "      <td>7.062311</td>\n",
              "    </tr>\n",
              "    <tr>\n",
              "      <th>Lifetime Post Total Reach</th>\n",
              "      <td>-0.001079</td>\n",
              "      <td>0.000134</td>\n",
              "    </tr>\n",
              "    <tr>\n",
              "      <th>Lifetime Post Total Impressions</th>\n",
              "      <td>-0.000145</td>\n",
              "      <td>0.000289</td>\n",
              "    </tr>\n",
              "    <tr>\n",
              "      <th>Lifetime Engaged Users</th>\n",
              "      <td>0.951141</td>\n",
              "      <td>1.012394</td>\n",
              "    </tr>\n",
              "    <tr>\n",
              "      <th>Lifetime Post Consumers</th>\n",
              "      <td>-1.012126</td>\n",
              "      <td>-0.952761</td>\n",
              "    </tr>\n",
              "    <tr>\n",
              "      <th>Lifetime Post Consumptions</th>\n",
              "      <td>0.002574</td>\n",
              "      <td>0.007116</td>\n",
              "    </tr>\n",
              "    <tr>\n",
              "      <th>Lifetime Post Impressions by people who have liked your Page</th>\n",
              "      <td>-0.000302</td>\n",
              "      <td>0.000164</td>\n",
              "    </tr>\n",
              "    <tr>\n",
              "      <th>Lifetime Post reach by people who like your Page</th>\n",
              "      <td>-0.000246</td>\n",
              "      <td>0.002243</td>\n",
              "    </tr>\n",
              "    <tr>\n",
              "      <th>Lifetime People who have liked your Page and engaged with your post</th>\n",
              "      <td>0.020047</td>\n",
              "      <td>0.048198</td>\n",
              "    </tr>\n",
              "    <tr>\n",
              "      <th>comment</th>\n",
              "      <td>0.537226</td>\n",
              "      <td>1.135406</td>\n",
              "    </tr>\n",
              "    <tr>\n",
              "      <th>share</th>\n",
              "      <td>0.969443</td>\n",
              "      <td>1.341713</td>\n",
              "    </tr>\n",
              "    <tr>\n",
              "      <th>Type_Photo</th>\n",
              "      <td>-26.118027</td>\n",
              "      <td>2.901484</td>\n",
              "    </tr>\n",
              "    <tr>\n",
              "      <th>Type_Status</th>\n",
              "      <td>-60.159412</td>\n",
              "      <td>-16.461734</td>\n",
              "    </tr>\n",
              "    <tr>\n",
              "      <th>Type_Video</th>\n",
              "      <td>-26.593340</td>\n",
              "      <td>33.035543</td>\n",
              "    </tr>\n",
              "    <tr>\n",
              "      <th>Category_2</th>\n",
              "      <td>0.908133</td>\n",
              "      <td>19.370630</td>\n",
              "    </tr>\n",
              "    <tr>\n",
              "      <th>Category_3</th>\n",
              "      <td>2.752980</td>\n",
              "      <td>19.573439</td>\n",
              "    </tr>\n",
              "    <tr>\n",
              "      <th>Post Month_2</th>\n",
              "      <td>-6.772770</td>\n",
              "      <td>32.160218</td>\n",
              "    </tr>\n",
              "    <tr>\n",
              "      <th>Post Month_3</th>\n",
              "      <td>-10.486630</td>\n",
              "      <td>28.803853</td>\n",
              "    </tr>\n",
              "    <tr>\n",
              "      <th>Post Month_4</th>\n",
              "      <td>-6.131769</td>\n",
              "      <td>26.628202</td>\n",
              "    </tr>\n",
              "    <tr>\n",
              "      <th>Post Month_5</th>\n",
              "      <td>-3.894660</td>\n",
              "      <td>29.723183</td>\n",
              "    </tr>\n",
              "    <tr>\n",
              "      <th>Post Month_6</th>\n",
              "      <td>-15.637246</td>\n",
              "      <td>17.281518</td>\n",
              "    </tr>\n",
              "    <tr>\n",
              "      <th>Post Month_7</th>\n",
              "      <td>-11.240862</td>\n",
              "      <td>21.734909</td>\n",
              "    </tr>\n",
              "    <tr>\n",
              "      <th>Post Month_8</th>\n",
              "      <td>-8.286724</td>\n",
              "      <td>26.928214</td>\n",
              "    </tr>\n",
              "    <tr>\n",
              "      <th>Post Month_9</th>\n",
              "      <td>-4.577966</td>\n",
              "      <td>31.043435</td>\n",
              "    </tr>\n",
              "    <tr>\n",
              "      <th>Post Month_10</th>\n",
              "      <td>0.509751</td>\n",
              "      <td>32.727049</td>\n",
              "    </tr>\n",
              "    <tr>\n",
              "      <th>Post Month_11</th>\n",
              "      <td>-21.014096</td>\n",
              "      <td>13.940039</td>\n",
              "    </tr>\n",
              "    <tr>\n",
              "      <th>Post Month_12</th>\n",
              "      <td>-28.355120</td>\n",
              "      <td>5.282606</td>\n",
              "    </tr>\n",
              "    <tr>\n",
              "      <th>Post Weekday_2</th>\n",
              "      <td>-13.354851</td>\n",
              "      <td>9.357948</td>\n",
              "    </tr>\n",
              "    <tr>\n",
              "      <th>Post Weekday_3</th>\n",
              "      <td>-9.265575</td>\n",
              "      <td>13.640136</td>\n",
              "    </tr>\n",
              "    <tr>\n",
              "      <th>Post Weekday_4</th>\n",
              "      <td>-6.431945</td>\n",
              "      <td>15.569527</td>\n",
              "    </tr>\n",
              "    <tr>\n",
              "      <th>Post Weekday_5</th>\n",
              "      <td>-14.701805</td>\n",
              "      <td>7.674620</td>\n",
              "    </tr>\n",
              "    <tr>\n",
              "      <th>Post Weekday_6</th>\n",
              "      <td>-13.968150</td>\n",
              "      <td>7.705138</td>\n",
              "    </tr>\n",
              "    <tr>\n",
              "      <th>Post Weekday_7</th>\n",
              "      <td>-15.088299</td>\n",
              "      <td>6.152020</td>\n",
              "    </tr>\n",
              "    <tr>\n",
              "      <th>Post Hour_2</th>\n",
              "      <td>-21.671239</td>\n",
              "      <td>16.378201</td>\n",
              "    </tr>\n",
              "    <tr>\n",
              "      <th>Post Hour_3</th>\n",
              "      <td>-24.318870</td>\n",
              "      <td>13.175888</td>\n",
              "    </tr>\n",
              "    <tr>\n",
              "      <th>Post Hour_4</th>\n",
              "      <td>-21.579506</td>\n",
              "      <td>18.491127</td>\n",
              "    </tr>\n",
              "    <tr>\n",
              "      <th>Post Hour_5</th>\n",
              "      <td>-42.758407</td>\n",
              "      <td>8.969124</td>\n",
              "    </tr>\n",
              "    <tr>\n",
              "      <th>Post Hour_6</th>\n",
              "      <td>-14.728636</td>\n",
              "      <td>33.140441</td>\n",
              "    </tr>\n",
              "    <tr>\n",
              "      <th>Post Hour_7</th>\n",
              "      <td>-32.758841</td>\n",
              "      <td>16.829470</td>\n",
              "    </tr>\n",
              "    <tr>\n",
              "      <th>Post Hour_8</th>\n",
              "      <td>-30.255202</td>\n",
              "      <td>21.128461</td>\n",
              "    </tr>\n",
              "    <tr>\n",
              "      <th>Post Hour_9</th>\n",
              "      <td>-32.083171</td>\n",
              "      <td>10.995398</td>\n",
              "    </tr>\n",
              "    <tr>\n",
              "      <th>Post Hour_10</th>\n",
              "      <td>-27.215173</td>\n",
              "      <td>11.292813</td>\n",
              "    </tr>\n",
              "    <tr>\n",
              "      <th>Post Hour_11</th>\n",
              "      <td>-23.085096</td>\n",
              "      <td>15.812445</td>\n",
              "    </tr>\n",
              "    <tr>\n",
              "      <th>Post Hour_12</th>\n",
              "      <td>-33.386719</td>\n",
              "      <td>9.428593</td>\n",
              "    </tr>\n",
              "    <tr>\n",
              "      <th>Post Hour_13</th>\n",
              "      <td>-24.157194</td>\n",
              "      <td>15.919664</td>\n",
              "    </tr>\n",
              "    <tr>\n",
              "      <th>Post Hour_14</th>\n",
              "      <td>-30.249838</td>\n",
              "      <td>20.832556</td>\n",
              "    </tr>\n",
              "    <tr>\n",
              "      <th>Post Hour_15</th>\n",
              "      <td>-36.533625</td>\n",
              "      <td>31.604797</td>\n",
              "    </tr>\n",
              "    <tr>\n",
              "      <th>Post Hour_16</th>\n",
              "      <td>-76.371550</td>\n",
              "      <td>54.908854</td>\n",
              "    </tr>\n",
              "    <tr>\n",
              "      <th>Post Hour_17</th>\n",
              "      <td>-15.032197</td>\n",
              "      <td>74.351131</td>\n",
              "    </tr>\n",
              "    <tr>\n",
              "      <th>Post Hour_18</th>\n",
              "      <td>-46.484347</td>\n",
              "      <td>40.437799</td>\n",
              "    </tr>\n",
              "    <tr>\n",
              "      <th>Post Hour_19</th>\n",
              "      <td>-70.655641</td>\n",
              "      <td>62.695393</td>\n",
              "    </tr>\n",
              "    <tr>\n",
              "      <th>Post Hour_20</th>\n",
              "      <td>-40.693047</td>\n",
              "      <td>92.531097</td>\n",
              "    </tr>\n",
              "    <tr>\n",
              "      <th>Post Hour_22</th>\n",
              "      <td>-71.528669</td>\n",
              "      <td>61.713042</td>\n",
              "    </tr>\n",
              "    <tr>\n",
              "      <th>Post Hour_23</th>\n",
              "      <td>-66.637582</td>\n",
              "      <td>65.984958</td>\n",
              "    </tr>\n",
              "  </tbody>\n",
              "</table>\n",
              "</div>\n",
              "      <button class=\"colab-df-convert\" onclick=\"convertToInteractive('df-610b2f1f-15c1-4aff-a00e-c3192b88bf37')\"\n",
              "              title=\"Convert this dataframe to an interactive table.\"\n",
              "              style=\"display:none;\">\n",
              "        \n",
              "  <svg xmlns=\"http://www.w3.org/2000/svg\" height=\"24px\"viewBox=\"0 0 24 24\"\n",
              "       width=\"24px\">\n",
              "    <path d=\"M0 0h24v24H0V0z\" fill=\"none\"/>\n",
              "    <path d=\"M18.56 5.44l.94 2.06.94-2.06 2.06-.94-2.06-.94-.94-2.06-.94 2.06-2.06.94zm-11 1L8.5 8.5l.94-2.06 2.06-.94-2.06-.94L8.5 2.5l-.94 2.06-2.06.94zm10 10l.94 2.06.94-2.06 2.06-.94-2.06-.94-.94-2.06-.94 2.06-2.06.94z\"/><path d=\"M17.41 7.96l-1.37-1.37c-.4-.4-.92-.59-1.43-.59-.52 0-1.04.2-1.43.59L10.3 9.45l-7.72 7.72c-.78.78-.78 2.05 0 2.83L4 21.41c.39.39.9.59 1.41.59.51 0 1.02-.2 1.41-.59l7.78-7.78 2.81-2.81c.8-.78.8-2.07 0-2.86zM5.41 20L4 18.59l7.72-7.72 1.47 1.35L5.41 20z\"/>\n",
              "  </svg>\n",
              "      </button>\n",
              "      \n",
              "  <style>\n",
              "    .colab-df-container {\n",
              "      display:flex;\n",
              "      flex-wrap:wrap;\n",
              "      gap: 12px;\n",
              "    }\n",
              "\n",
              "    .colab-df-convert {\n",
              "      background-color: #E8F0FE;\n",
              "      border: none;\n",
              "      border-radius: 50%;\n",
              "      cursor: pointer;\n",
              "      display: none;\n",
              "      fill: #1967D2;\n",
              "      height: 32px;\n",
              "      padding: 0 0 0 0;\n",
              "      width: 32px;\n",
              "    }\n",
              "\n",
              "    .colab-df-convert:hover {\n",
              "      background-color: #E2EBFA;\n",
              "      box-shadow: 0px 1px 2px rgba(60, 64, 67, 0.3), 0px 1px 3px 1px rgba(60, 64, 67, 0.15);\n",
              "      fill: #174EA6;\n",
              "    }\n",
              "\n",
              "    [theme=dark] .colab-df-convert {\n",
              "      background-color: #3B4455;\n",
              "      fill: #D2E3FC;\n",
              "    }\n",
              "\n",
              "    [theme=dark] .colab-df-convert:hover {\n",
              "      background-color: #434B5C;\n",
              "      box-shadow: 0px 1px 3px 1px rgba(0, 0, 0, 0.15);\n",
              "      filter: drop-shadow(0px 1px 2px rgba(0, 0, 0, 0.3));\n",
              "      fill: #FFFFFF;\n",
              "    }\n",
              "  </style>\n",
              "\n",
              "      <script>\n",
              "        const buttonEl =\n",
              "          document.querySelector('#df-610b2f1f-15c1-4aff-a00e-c3192b88bf37 button.colab-df-convert');\n",
              "        buttonEl.style.display =\n",
              "          google.colab.kernel.accessAllowed ? 'block' : 'none';\n",
              "\n",
              "        async function convertToInteractive(key) {\n",
              "          const element = document.querySelector('#df-610b2f1f-15c1-4aff-a00e-c3192b88bf37');\n",
              "          const dataTable =\n",
              "            await google.colab.kernel.invokeFunction('convertToInteractive',\n",
              "                                                     [key], {});\n",
              "          if (!dataTable) return;\n",
              "\n",
              "          const docLinkHtml = 'Like what you see? Visit the ' +\n",
              "            '<a target=\"_blank\" href=https://colab.research.google.com/notebooks/data_table.ipynb>data table notebook</a>'\n",
              "            + ' to learn more about interactive tables.';\n",
              "          element.innerHTML = '';\n",
              "          dataTable['output_type'] = 'display_data';\n",
              "          await google.colab.output.renderOutput(dataTable, element);\n",
              "          const docLink = document.createElement('div');\n",
              "          docLink.innerHTML = docLinkHtml;\n",
              "          element.appendChild(docLink);\n",
              "        }\n",
              "      </script>\n",
              "    </div>\n",
              "  </div>\n",
              "  "
            ]
          },
          "metadata": {},
          "execution_count": 34
        }
      ]
    },
    {
      "cell_type": "markdown",
      "metadata": {
        "id": "H-hwxfFSY4rP"
      },
      "source": [
        "# Q2 Bootstrap confidence interval"
      ]
    },
    {
      "cell_type": "markdown",
      "metadata": {
        "id": "63wvJe2qY4rP"
      },
      "source": [
        "Your tasks is to use the boostrap method to construct a 95% CI for the coefficients for **comment** and **share** using the same model as in Q1. Do you get similar CI to Q1? Why or why not?"
      ]
    },
    {
      "cell_type": "code",
      "metadata": {
        "id": "qkEK0Y2XY4rP"
      },
      "source": [
        "bootstrapped_ests = []\n",
        "for i in tqdm(range(5000)):\n",
        "    # YOUR CODE HERE \n",
        "    \n",
        "b_comments, b_shares = zip(*bootstrapped_ests)\n",
        "\n",
        "print(\"The 95% bootstrapped CI of b_comments is [{:.2f}, {:.2f}].\".format(\n",
        "    np.percentile(b_comments, 2.5),\n",
        "    np.percentile(b_comments, 97.5)))\n",
        "\n",
        "print(\"The 95% bootstrapped CI of b_shares is [{:.2f}, {:.2f}].\".format(\n",
        "    np.percentile(b_shares, 2.5),\n",
        "    np.percentile(b_shares, 97.5)))"
      ],
      "execution_count": null,
      "outputs": []
    },
    {
      "cell_type": "markdown",
      "metadata": {
        "id": "N8f8FrIcY4rP"
      },
      "source": [
        "## Q3 - Use AIC/BIC for model selection"
      ]
    },
    {
      "cell_type": "markdown",
      "metadata": {
        "id": "mMNmNYBTY4rQ"
      },
      "source": [
        "- Read the [example here](https://scikit-learn.org/stable/auto_examples/linear_model/plot_lasso_model_selection.html#sphx-glr-auto-examples-linear-model-plot-lasso-model-selection-py) and the [manual here](https://scikit-learn.org/stable/modules/generated/sklearn.linear_model.LassoLarsIC.html#sklearn.linear_model.LassoLarsIC). You may want to create a separate notebook to run the example.\n",
        "- Use `LassoLarsIC` to select the best model using the **`bic`** criterion. \n",
        "- There is no need to split the data to train-test sets for this exercise. \n",
        "- Which X variables are selected by the `LassoLarsIC` method? Answer using variable names. "
      ]
    },
    {
      "cell_type": "code",
      "metadata": {
        "id": "2GyMlgKeY4rQ"
      },
      "source": [
        "from sklearn.linear_model import LassoLarsIC\n",
        "from sklearn.pipeline import make_pipeline\n",
        "from sklearn.preprocessing import StandardScaler\n",
        "#y = pd.columns_or_1d(fb_like_dummy[target_columns], warn = True)\n",
        "\n"
      ],
      "execution_count": null,
      "outputs": []
    },
    {
      "cell_type": "code",
      "source": [
        "from pandas.core.indexing import convert_from_missing_indexer_tuple\n",
        "result = pd.DataFrame()\n",
        "lasso_lars_bic = LassoLarsIC(criterion=\"bic\").fit(fb_like_dummy[independent_columns], fb_like_dummy[target_columns])\n",
        "lasso_lars_aic = LassoLarsIC(criterion=\"aic\").fit(fb_like_dummy[independent_columns], fb_like_dummy[target_columns])\n",
        "# result[\"Alphas\"] = lasso_lars_bic[-1].alphas_\n",
        "# result[\"BIC\"] = lasso_lars_bic[-1].criterion_\n",
        "# result[\"AIC\"] = lasso_lars_aic[-1].criterion_\n",
        "\n",
        "\n",
        "coef_selected_cols = np.abs(lasso_lars_bic.coef_)\n",
        "print(coef_selected_cols)\n",
        "selected_cols = []\n",
        "for i in range(len(independent_columns)):\n",
        "  if coef_selected_cols[i]>0:\n",
        "    selected_cols.append(independent_columns[i])\n",
        "\n",
        "print(selected_cols)"
      ],
      "metadata": {
        "id": "qCNtnoneqtdO",
        "outputId": "192dc41c-cd9e-46bb-f66b-e20a443f872b",
        "colab": {
          "base_uri": "https://localhost:8080/"
        }
      },
      "execution_count": null,
      "outputs": [
        {
          "output_type": "stream",
          "name": "stdout",
          "text": [
            "[7.39631746e-01 1.25444860e-04 1.58522447e-05 9.11242490e-01\n",
            " 9.12740618e-01 3.80946209e-03 0.00000000e+00 1.29521037e-03\n",
            " 3.46663490e-02 9.64880172e-01 1.38857964e+00 0.00000000e+00\n",
            " 2.93752069e+01 0.00000000e+00 8.66328204e+00 1.10202659e+01\n",
            " 1.81045603e+00 4.55791604e+00 1.31989681e+00 7.18636470e+00\n",
            " 2.98511964e+00 0.00000000e+00 5.61162022e+00 8.59759110e+00\n",
            " 1.17206876e+01 5.31766745e+00 1.04309016e+01 1.94374071e+00\n",
            " 0.00000000e+00 3.40630897e+00 1.71314293e+00 2.55488286e+00\n",
            " 3.74662285e+00 0.00000000e+00 0.00000000e+00 6.73991606e-01\n",
            " 6.27725532e+00 1.21477912e+01 0.00000000e+00 0.00000000e+00\n",
            " 2.88672223e+00 2.85472318e+00 0.00000000e+00 5.86870756e+00\n",
            " 0.00000000e+00 1.03424431e-01 0.00000000e+00 2.97120950e+00\n",
            " 3.36168263e+01 2.62372032e-01 0.00000000e+00 2.46979061e+01\n",
            " 0.00000000e+00 0.00000000e+00]\n",
            "['Paid', 'Lifetime Post Total Reach', 'Lifetime Post Total Impressions', 'Lifetime Engaged Users', 'Lifetime Post Consumers', 'Lifetime Post Consumptions', 'Lifetime Post reach by people who like your Page', 'Lifetime People who have liked your Page and engaged with your post', 'comment', 'share', 'Type_Status', 'Category_2', 'Category_3', 'Post Month_2', 'Post Month_3', 'Post Month_4', 'Post Month_5', 'Post Month_6', 'Post Month_8', 'Post Month_9', 'Post Month_10', 'Post Month_11', 'Post Month_12', 'Post Weekday_2', 'Post Weekday_4', 'Post Weekday_5', 'Post Weekday_6', 'Post Weekday_7', 'Post Hour_4', 'Post Hour_5', 'Post Hour_6', 'Post Hour_9', 'Post Hour_10', 'Post Hour_12', 'Post Hour_14', 'Post Hour_16', 'Post Hour_17', 'Post Hour_18', 'Post Hour_20']\n"
          ]
        },
        {
          "output_type": "stream",
          "name": "stderr",
          "text": [
            "/usr/local/lib/python3.7/dist-packages/sklearn/linear_model/_base.py:138: FutureWarning: The default of 'normalize' will be set to False in version 1.2 and deprecated in version 1.4.\n",
            "If you wish to scale the data, use Pipeline with a StandardScaler in a preprocessing stage. To reproduce the previous behavior:\n",
            "\n",
            "from sklearn.pipeline import make_pipeline\n",
            "\n",
            "model = make_pipeline(StandardScaler(with_mean=False), LassoLarsIC())\n",
            "\n",
            "If you wish to pass a sample_weight parameter, you need to pass it as a fit parameter to each step of the pipeline as follows:\n",
            "\n",
            "kwargs = {s[0] + '__sample_weight': sample_weight for s in model.steps}\n",
            "model.fit(X, y, **kwargs)\n",
            "\n",
            "Set parameter alpha to: original_alpha * np.sqrt(n_samples). \n",
            "  FutureWarning,\n",
            "/usr/local/lib/python3.7/dist-packages/sklearn/utils/validation.py:993: DataConversionWarning: A column-vector y was passed when a 1d array was expected. Please change the shape of y to (n_samples, ), for example using ravel().\n",
            "  y = column_or_1d(y, warn=True)\n",
            "/usr/local/lib/python3.7/dist-packages/sklearn/linear_model/_base.py:138: FutureWarning: The default of 'normalize' will be set to False in version 1.2 and deprecated in version 1.4.\n",
            "If you wish to scale the data, use Pipeline with a StandardScaler in a preprocessing stage. To reproduce the previous behavior:\n",
            "\n",
            "from sklearn.pipeline import make_pipeline\n",
            "\n",
            "model = make_pipeline(StandardScaler(with_mean=False), LassoLarsIC())\n",
            "\n",
            "If you wish to pass a sample_weight parameter, you need to pass it as a fit parameter to each step of the pipeline as follows:\n",
            "\n",
            "kwargs = {s[0] + '__sample_weight': sample_weight for s in model.steps}\n",
            "model.fit(X, y, **kwargs)\n",
            "\n",
            "Set parameter alpha to: original_alpha * np.sqrt(n_samples). \n",
            "  FutureWarning,\n",
            "/usr/local/lib/python3.7/dist-packages/sklearn/utils/validation.py:993: DataConversionWarning: A column-vector y was passed when a 1d array was expected. Please change the shape of y to (n_samples, ), for example using ravel().\n",
            "  y = column_or_1d(y, warn=True)\n"
          ]
        }
      ]
    },
    {
      "cell_type": "markdown",
      "metadata": {
        "id": "gZA0-W8oY4rQ"
      },
      "source": [
        "## Q4 - Compare out-of-sample perormance"
      ]
    },
    {
      "cell_type": "markdown",
      "metadata": {
        "id": "5XK4EcwyY4rR"
      },
      "source": [
        "- Split the data to 90% train and 10% test set. \n",
        "- Train three models using the train set:\n",
        "   * `LassoLarsIC` model (a model that uses BIC to select variables)\n",
        "   * a full model (a model that includes all X variables)\n",
        "   * a `LassoCV` model (a model that uses CV on train set to select variables)\n",
        "- Remember to train a scaler using train set only, and transform both X_train and X_test. \n",
        "- Compare their test-set performance using MSE. Which model has the best performance? "
      ]
    },
    {
      "cell_type": "code",
      "source": [
        ""
      ],
      "metadata": {
        "id": "jZJwfN9KygO9"
      },
      "execution_count": null,
      "outputs": []
    },
    {
      "cell_type": "code",
      "metadata": {
        "id": "V9zboapBY4rR",
        "outputId": "3ff8248b-9368-4a99-d90c-dcabbd134a72",
        "colab": {
          "base_uri": "https://localhost:8080/"
        }
      },
      "source": [
        "from sklearn.model_selection import train_test_split\n",
        "from sklearn import preprocessing\n",
        "from sklearn import metrics\n",
        "from sklearn.linear_model import LassoCV\n",
        "\n",
        "\n",
        "#LassoCV\n",
        "x_train, x_test, y_train, y_test = train_test_split(fb_like_dummy[independent_columns], fb_like_dummy[target_columns], test_size = 0.3)\n",
        "scaler = preprocessing.StandardScaler().fit(x_train)\n",
        "modelLassoCV = LassoCV(cv = 5, normalize=False)\n",
        "modelLassoCV.fit(scaler.transform(x_train), y_train)\n",
        "\n",
        "y_pred = modelLassoCV.predict(scaler.transform(x_test))\n",
        "\n",
        "metrics.mean_squared_error(y_true=y_test, y_pred = y_pred)"
      ],
      "execution_count": null,
      "outputs": [
        {
          "output_type": "stream",
          "name": "stderr",
          "text": [
            "/usr/local/lib/python3.7/dist-packages/sklearn/linear_model/_coordinate_descent.py:1571: DataConversionWarning: A column-vector y was passed when a 1d array was expected. Please change the shape of y to (n_samples, ), for example using ravel().\n",
            "  y = column_or_1d(y, warn=True)\n",
            "/usr/local/lib/python3.7/dist-packages/sklearn/linear_model/_base.py:155: FutureWarning: 'normalize' was deprecated in version 1.0 and will be removed in 1.2. Please leave the normalize parameter to its default value to silence this warning. The default behavior of this estimator is to not do any normalization. If normalization is needed please use sklearn.preprocessing.StandardScaler instead.\n",
            "  FutureWarning,\n"
          ]
        },
        {
          "output_type": "execute_result",
          "data": {
            "text/plain": [
              "1763.0090902405814"
            ]
          },
          "metadata": {},
          "execution_count": 71
        }
      ]
    },
    {
      "cell_type": "code",
      "source": [
        "from sklearn.linear_model import LinearRegression\n",
        "#Linear Regression\n",
        "modelLinear = LinearRegression()\n",
        "modelLinear.fit(x_train, y_train)\n",
        "\n",
        "y_pred_LR = modelLinear.predict(x_test)\n",
        "\n",
        "metrics.mean_squared_error(y_true = y_test, y_pred = y_pred_LR)\n"
      ],
      "metadata": {
        "id": "-BgnTYETyOPC",
        "outputId": "41d9749c-cdfc-46ce-957c-5ca8069349f2",
        "colab": {
          "base_uri": "https://localhost:8080/"
        }
      },
      "execution_count": null,
      "outputs": [
        {
          "output_type": "execute_result",
          "data": {
            "text/plain": [
              "1913.4534223274345"
            ]
          },
          "metadata": {},
          "execution_count": 72
        }
      ]
    },
    {
      "cell_type": "code",
      "source": [
        "from sklearn.linear_model import LassoLarsIC\n",
        "#LassoLarsIC\n",
        "modelLassoLarsIC = LassoLarsIC(criterion='bic')\n",
        "modelLassoLarsIC.fit(x_train, y_train)\n",
        "\n",
        "y_pred_LLbic = modelLassoLarsIC.predict(x_test)\n",
        "\n",
        "metrics.mean_squared_error(y_true = y_test, y_pred = y_pred_LLbic)\n",
        "                                        "
      ],
      "metadata": {
        "id": "0nQ2ubUhy-2N",
        "outputId": "c35e2fae-6d75-442c-ccac-f63321c44234",
        "colab": {
          "base_uri": "https://localhost:8080/"
        }
      },
      "execution_count": null,
      "outputs": [
        {
          "output_type": "stream",
          "name": "stderr",
          "text": [
            "/usr/local/lib/python3.7/dist-packages/sklearn/linear_model/_base.py:138: FutureWarning: The default of 'normalize' will be set to False in version 1.2 and deprecated in version 1.4.\n",
            "If you wish to scale the data, use Pipeline with a StandardScaler in a preprocessing stage. To reproduce the previous behavior:\n",
            "\n",
            "from sklearn.pipeline import make_pipeline\n",
            "\n",
            "model = make_pipeline(StandardScaler(with_mean=False), LassoLarsIC())\n",
            "\n",
            "If you wish to pass a sample_weight parameter, you need to pass it as a fit parameter to each step of the pipeline as follows:\n",
            "\n",
            "kwargs = {s[0] + '__sample_weight': sample_weight for s in model.steps}\n",
            "model.fit(X, y, **kwargs)\n",
            "\n",
            "Set parameter alpha to: original_alpha * np.sqrt(n_samples). \n",
            "  FutureWarning,\n",
            "/usr/local/lib/python3.7/dist-packages/sklearn/utils/validation.py:993: DataConversionWarning: A column-vector y was passed when a 1d array was expected. Please change the shape of y to (n_samples, ), for example using ravel().\n",
            "  y = column_or_1d(y, warn=True)\n"
          ]
        },
        {
          "output_type": "execute_result",
          "data": {
            "text/plain": [
              "1776.8192599840543"
            ]
          },
          "metadata": {},
          "execution_count": 73
        }
      ]
    },
    {
      "cell_type": "code",
      "source": [
        ""
      ],
      "metadata": {
        "id": "LSkcAqEW0uwE",
        "outputId": "701d3c3f-fa95-4811-cbbf-a3e1df4814ce",
        "colab": {
          "base_uri": "https://localhost:8080/"
        }
      },
      "execution_count": null,
      "outputs": [
        {
          "output_type": "execute_result",
          "data": {
            "text/plain": [
              "4490.807552750147"
            ]
          },
          "metadata": {},
          "execution_count": 70
        }
      ]
    },
    {
      "cell_type": "code",
      "source": [
        ""
      ],
      "metadata": {
        "id": "XQDIE2IT06e2"
      },
      "execution_count": null,
      "outputs": []
    }
  ]
}